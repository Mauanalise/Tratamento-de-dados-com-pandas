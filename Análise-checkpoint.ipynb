{
 "cells": [
  {
   "cell_type": "code",
   "execution_count": 8,
   "id": "b4c56aa1-ddd3-4567-9169-47fc000faad2",
   "metadata": {},
   "outputs": [
    {
     "name": "stdout",
     "output_type": "stream",
     "text": [
      "Imported pandas_dq (1.10). Always upgrade to get latest version.\n",
      "\n"
     ]
    }
   ],
   "source": [
    "#Importando as bibliotecas necessárias \n",
    "import pandas as pd\n",
    "import numpy as pn \n",
    "from pandas_dq import dq_report, Fix_DQ"
   ]
  },
  {
   "cell_type": "code",
   "execution_count": 6,
   "id": "f1ca9d68-79e8-4686-b894-58edcb07b5cf",
   "metadata": {
    "tags": []
   },
   "outputs": [],
   "source": [
    "df = pd.read_csv('customer_shopping_data.csv', sep = ',') #importando nossos dados como um df "
   ]
  },
  {
   "cell_type": "code",
   "execution_count": 17,
   "id": "8233a375-aef5-4327-b0b5-f1f73097d4ae",
   "metadata": {},
   "outputs": [
    {
     "data": {
      "text/html": [
       "<div>\n",
       "<style scoped>\n",
       "    .dataframe tbody tr th:only-of-type {\n",
       "        vertical-align: middle;\n",
       "    }\n",
       "\n",
       "    .dataframe tbody tr th {\n",
       "        vertical-align: top;\n",
       "    }\n",
       "\n",
       "    .dataframe thead th {\n",
       "        text-align: right;\n",
       "    }\n",
       "</style>\n",
       "<table border=\"1\" class=\"dataframe\">\n",
       "  <thead>\n",
       "    <tr style=\"text-align: right;\">\n",
       "      <th></th>\n",
       "      <th>invoice_no</th>\n",
       "      <th>customer_id</th>\n",
       "      <th>gender</th>\n",
       "      <th>age</th>\n",
       "      <th>category</th>\n",
       "      <th>quantity</th>\n",
       "      <th>price</th>\n",
       "      <th>payment_method</th>\n",
       "      <th>invoice_date</th>\n",
       "      <th>shopping_mall</th>\n",
       "      <th>invoce_date</th>\n",
       "    </tr>\n",
       "  </thead>\n",
       "  <tbody>\n",
       "    <tr>\n",
       "      <th>0</th>\n",
       "      <td>I138884</td>\n",
       "      <td>C241288</td>\n",
       "      <td>Female</td>\n",
       "      <td>28</td>\n",
       "      <td>Clothing</td>\n",
       "      <td>5</td>\n",
       "      <td>1500.40</td>\n",
       "      <td>Credit Card</td>\n",
       "      <td>5/8/2022</td>\n",
       "      <td>Kanyon</td>\n",
       "      <td>2022-08-05</td>\n",
       "    </tr>\n",
       "    <tr>\n",
       "      <th>1</th>\n",
       "      <td>I317333</td>\n",
       "      <td>C111565</td>\n",
       "      <td>Male</td>\n",
       "      <td>21</td>\n",
       "      <td>Shoes</td>\n",
       "      <td>3</td>\n",
       "      <td>1800.51</td>\n",
       "      <td>Debit Card</td>\n",
       "      <td>12/12/2021</td>\n",
       "      <td>Forum Istanbul</td>\n",
       "      <td>2021-12-12</td>\n",
       "    </tr>\n",
       "    <tr>\n",
       "      <th>2</th>\n",
       "      <td>I127801</td>\n",
       "      <td>C266599</td>\n",
       "      <td>Male</td>\n",
       "      <td>20</td>\n",
       "      <td>Clothing</td>\n",
       "      <td>1</td>\n",
       "      <td>300.08</td>\n",
       "      <td>Cash</td>\n",
       "      <td>9/11/2021</td>\n",
       "      <td>Metrocity</td>\n",
       "      <td>2021-11-09</td>\n",
       "    </tr>\n",
       "    <tr>\n",
       "      <th>3</th>\n",
       "      <td>I173702</td>\n",
       "      <td>C988172</td>\n",
       "      <td>Female</td>\n",
       "      <td>66</td>\n",
       "      <td>Shoes</td>\n",
       "      <td>5</td>\n",
       "      <td>3000.85</td>\n",
       "      <td>Credit Card</td>\n",
       "      <td>16/05/2021</td>\n",
       "      <td>Metropol AVM</td>\n",
       "      <td>2021-05-16</td>\n",
       "    </tr>\n",
       "    <tr>\n",
       "      <th>4</th>\n",
       "      <td>I337046</td>\n",
       "      <td>C189076</td>\n",
       "      <td>Female</td>\n",
       "      <td>53</td>\n",
       "      <td>Books</td>\n",
       "      <td>4</td>\n",
       "      <td>60.60</td>\n",
       "      <td>Cash</td>\n",
       "      <td>24/10/2021</td>\n",
       "      <td>Kanyon</td>\n",
       "      <td>2021-10-24</td>\n",
       "    </tr>\n",
       "    <tr>\n",
       "      <th>5</th>\n",
       "      <td>I227836</td>\n",
       "      <td>C657758</td>\n",
       "      <td>Female</td>\n",
       "      <td>28</td>\n",
       "      <td>Clothing</td>\n",
       "      <td>5</td>\n",
       "      <td>1500.40</td>\n",
       "      <td>Credit Card</td>\n",
       "      <td>24/05/2022</td>\n",
       "      <td>Forum Istanbul</td>\n",
       "      <td>2022-05-24</td>\n",
       "    </tr>\n",
       "    <tr>\n",
       "      <th>6</th>\n",
       "      <td>I121056</td>\n",
       "      <td>C151197</td>\n",
       "      <td>Female</td>\n",
       "      <td>49</td>\n",
       "      <td>Cosmetics</td>\n",
       "      <td>1</td>\n",
       "      <td>40.66</td>\n",
       "      <td>Cash</td>\n",
       "      <td>13/03/2022</td>\n",
       "      <td>Istinye Park</td>\n",
       "      <td>2022-03-13</td>\n",
       "    </tr>\n",
       "    <tr>\n",
       "      <th>7</th>\n",
       "      <td>I293112</td>\n",
       "      <td>C176086</td>\n",
       "      <td>Female</td>\n",
       "      <td>32</td>\n",
       "      <td>Clothing</td>\n",
       "      <td>2</td>\n",
       "      <td>600.16</td>\n",
       "      <td>Credit Card</td>\n",
       "      <td>13/01/2021</td>\n",
       "      <td>Mall of Istanbul</td>\n",
       "      <td>2021-01-13</td>\n",
       "    </tr>\n",
       "    <tr>\n",
       "      <th>8</th>\n",
       "      <td>I293455</td>\n",
       "      <td>C159642</td>\n",
       "      <td>Male</td>\n",
       "      <td>69</td>\n",
       "      <td>Clothing</td>\n",
       "      <td>3</td>\n",
       "      <td>900.24</td>\n",
       "      <td>Credit Card</td>\n",
       "      <td>4/11/2021</td>\n",
       "      <td>Metrocity</td>\n",
       "      <td>2021-11-04</td>\n",
       "    </tr>\n",
       "    <tr>\n",
       "      <th>9</th>\n",
       "      <td>I326945</td>\n",
       "      <td>C283361</td>\n",
       "      <td>Female</td>\n",
       "      <td>60</td>\n",
       "      <td>Clothing</td>\n",
       "      <td>2</td>\n",
       "      <td>600.16</td>\n",
       "      <td>Credit Card</td>\n",
       "      <td>22/08/2021</td>\n",
       "      <td>Kanyon</td>\n",
       "      <td>2021-08-22</td>\n",
       "    </tr>\n",
       "  </tbody>\n",
       "</table>\n",
       "</div>"
      ],
      "text/plain": [
       "  invoice_no customer_id  gender  age   category  quantity    price   \n",
       "0    I138884     C241288  Female   28   Clothing         5  1500.40  \\\n",
       "1    I317333     C111565    Male   21      Shoes         3  1800.51   \n",
       "2    I127801     C266599    Male   20   Clothing         1   300.08   \n",
       "3    I173702     C988172  Female   66      Shoes         5  3000.85   \n",
       "4    I337046     C189076  Female   53      Books         4    60.60   \n",
       "5    I227836     C657758  Female   28   Clothing         5  1500.40   \n",
       "6    I121056     C151197  Female   49  Cosmetics         1    40.66   \n",
       "7    I293112     C176086  Female   32   Clothing         2   600.16   \n",
       "8    I293455     C159642    Male   69   Clothing         3   900.24   \n",
       "9    I326945     C283361  Female   60   Clothing         2   600.16   \n",
       "\n",
       "  payment_method invoice_date     shopping_mall invoce_date  \n",
       "0    Credit Card     5/8/2022            Kanyon  2022-08-05  \n",
       "1     Debit Card   12/12/2021    Forum Istanbul  2021-12-12  \n",
       "2           Cash    9/11/2021         Metrocity  2021-11-09  \n",
       "3    Credit Card   16/05/2021      Metropol AVM  2021-05-16  \n",
       "4           Cash   24/10/2021            Kanyon  2021-10-24  \n",
       "5    Credit Card   24/05/2022    Forum Istanbul  2022-05-24  \n",
       "6           Cash   13/03/2022      Istinye Park  2022-03-13  \n",
       "7    Credit Card   13/01/2021  Mall of Istanbul  2021-01-13  \n",
       "8    Credit Card    4/11/2021         Metrocity  2021-11-04  \n",
       "9    Credit Card   22/08/2021            Kanyon  2021-08-22  "
      ]
     },
     "execution_count": 17,
     "metadata": {},
     "output_type": "execute_result"
    }
   ],
   "source": [
    "df.head(10)"
   ]
  },
  {
   "cell_type": "code",
   "execution_count": 8,
   "id": "66400fec-e839-4b5e-a574-772925965902",
   "metadata": {
    "tags": []
   },
   "outputs": [],
   "source": [
    "df['invoce_date'] = pd.to_datetime(df['invoice_date'],format='%d/%m/%Y', errors='coerce') #transformando do tipo object para data"
   ]
  },
  {
   "cell_type": "code",
   "execution_count": 18,
   "id": "02c6c161-4a87-46e2-a96c-8aa9f56aba0c",
   "metadata": {},
   "outputs": [
    {
     "name": "stdout",
     "output_type": "stream",
     "text": [
      "<class 'pandas.core.frame.DataFrame'>\n",
      "RangeIndex: 99457 entries, 0 to 99456\n",
      "Data columns (total 11 columns):\n",
      " #   Column          Non-Null Count  Dtype         \n",
      "---  ------          --------------  -----         \n",
      " 0   invoice_no      99457 non-null  object        \n",
      " 1   customer_id     99457 non-null  object        \n",
      " 2   gender          99457 non-null  object        \n",
      " 3   age             99457 non-null  int64         \n",
      " 4   category        99457 non-null  object        \n",
      " 5   quantity        99457 non-null  int64         \n",
      " 6   price           99457 non-null  float64       \n",
      " 7   payment_method  99457 non-null  object        \n",
      " 8   invoice_date    99457 non-null  object        \n",
      " 9   shopping_mall   99457 non-null  object        \n",
      " 10  invoce_date     99457 non-null  datetime64[ns]\n",
      "dtypes: datetime64[ns](1), float64(1), int64(2), object(7)\n",
      "memory usage: 8.3+ MB\n"
     ]
    }
   ],
   "source": [
    "df.info() #verificando informações básicas, sendo assim não há nenhum valor nulo\n",
    "#Cada coluna possuí 99457 registros\n",
    "#os tipos das colunas estão corretas, não há necessidade de transformá-las em string(object)"
   ]
  },
  {
   "cell_type": "code",
   "execution_count": 4,
   "id": "6289fa0a-87c3-401d-ad45-280d3b981c90",
   "metadata": {},
   "outputs": [
    {
     "data": {
      "text/plain": [
       "invoice_no        0\n",
       "customer_id       0\n",
       "gender            0\n",
       "age               0\n",
       "category          0\n",
       "quantity          0\n",
       "price             0\n",
       "payment_method    0\n",
       "invoice_date      0\n",
       "shopping_mall     0\n",
       "dtype: int64"
      ]
     },
     "execution_count": 4,
     "metadata": {},
     "output_type": "execute_result"
    }
   ],
   "source": [
    "df.isnull().sum() #verificando valores nulos"
   ]
  },
  {
   "cell_type": "code",
   "execution_count": 38,
   "id": "3a800bd8-1278-40d2-8c1c-e6cfe8a4d08b",
   "metadata": {
    "tags": []
   },
   "outputs": [
    {
     "data": {
      "text/html": [
       "<div>\n",
       "<style scoped>\n",
       "    .dataframe tbody tr th:only-of-type {\n",
       "        vertical-align: middle;\n",
       "    }\n",
       "\n",
       "    .dataframe tbody tr th {\n",
       "        vertical-align: top;\n",
       "    }\n",
       "\n",
       "    .dataframe thead th {\n",
       "        text-align: right;\n",
       "    }\n",
       "</style>\n",
       "<table border=\"1\" class=\"dataframe\">\n",
       "  <thead>\n",
       "    <tr style=\"text-align: right;\">\n",
       "      <th></th>\n",
       "      <th>age</th>\n",
       "      <th>quantity</th>\n",
       "      <th>price</th>\n",
       "    </tr>\n",
       "  </thead>\n",
       "  <tbody>\n",
       "    <tr>\n",
       "      <th>count</th>\n",
       "      <td>99457.000000</td>\n",
       "      <td>99457.000000</td>\n",
       "      <td>99457.000000</td>\n",
       "    </tr>\n",
       "    <tr>\n",
       "      <th>mean</th>\n",
       "      <td>43.427089</td>\n",
       "      <td>3.003429</td>\n",
       "      <td>689.256321</td>\n",
       "    </tr>\n",
       "    <tr>\n",
       "      <th>std</th>\n",
       "      <td>14.990054</td>\n",
       "      <td>1.413025</td>\n",
       "      <td>941.184567</td>\n",
       "    </tr>\n",
       "    <tr>\n",
       "      <th>min</th>\n",
       "      <td>18.000000</td>\n",
       "      <td>1.000000</td>\n",
       "      <td>5.230000</td>\n",
       "    </tr>\n",
       "    <tr>\n",
       "      <th>25%</th>\n",
       "      <td>30.000000</td>\n",
       "      <td>2.000000</td>\n",
       "      <td>45.450000</td>\n",
       "    </tr>\n",
       "    <tr>\n",
       "      <th>50%</th>\n",
       "      <td>43.000000</td>\n",
       "      <td>3.000000</td>\n",
       "      <td>203.300000</td>\n",
       "    </tr>\n",
       "    <tr>\n",
       "      <th>75%</th>\n",
       "      <td>56.000000</td>\n",
       "      <td>4.000000</td>\n",
       "      <td>1200.320000</td>\n",
       "    </tr>\n",
       "    <tr>\n",
       "      <th>max</th>\n",
       "      <td>69.000000</td>\n",
       "      <td>5.000000</td>\n",
       "      <td>5250.000000</td>\n",
       "    </tr>\n",
       "  </tbody>\n",
       "</table>\n",
       "</div>"
      ],
      "text/plain": [
       "                age      quantity         price\n",
       "count  99457.000000  99457.000000  99457.000000\n",
       "mean      43.427089      3.003429    689.256321\n",
       "std       14.990054      1.413025    941.184567\n",
       "min       18.000000      1.000000      5.230000\n",
       "25%       30.000000      2.000000     45.450000\n",
       "50%       43.000000      3.000000    203.300000\n",
       "75%       56.000000      4.000000   1200.320000\n",
       "max       69.000000      5.000000   5250.000000"
      ]
     },
     "execution_count": 38,
     "metadata": {},
     "output_type": "execute_result"
    }
   ],
   "source": [
    "df.describe() #describe() apresenta um resumo estatístico das colunas numéricas dos dados\n",
    "#Os dados da coluna price há muitos outliers (valores extremos). Isso porque o desvi padrão está bastante alto\n",
    "#outros dados estão normalizados, na Estatística falamos dados simétricos, com dados distribuídos igualmente em torno da média.\n",
    "#iremos explorar mais em outro momento"
   ]
  },
  {
   "cell_type": "markdown",
   "id": "5ca1786e-d8fc-4319-b82b-0f1bc95f74d4",
   "metadata": {},
   "source": [
    "Dq_Report fornece um conjunto de ferramentas para avaliação da qualidade dos dados, que podem ser usadas para identificar e resolver problemas potenciais com conjuntos de dados. Isso pode ajudar a melhorar a qualidade da análise de dados e garantir que os resultados sejam confiáveis."
   ]
  },
  {
   "cell_type": "code",
   "execution_count": 10,
   "id": "36fe08f7-f0a1-4315-8e55-044a7b6f8140",
   "metadata": {
    "tags": []
   },
   "outputs": [
    {
     "name": "stdout",
     "output_type": "stream",
     "text": [
      "Alert: Dropping 97377 duplicate rows can sometimes cause column data types to change to object. Double-check!\n"
     ]
    },
    {
     "data": {
      "text/html": [
       "<style type=\"text/css\">\n",
       "#T_6c2c5_row0_col0, #T_6c2c5_row0_col2, #T_6c2c5_row0_col5, #T_6c2c5_row1_col0, #T_6c2c5_row1_col2, #T_6c2c5_row1_col5, #T_6c2c5_row2_col0, #T_6c2c5_row2_col2, #T_6c2c5_row2_col5 {\n",
       "  font-family: Segoe UI;\n",
       "}\n",
       "#T_6c2c5_row0_col1, #T_6c2c5_row1_col1, #T_6c2c5_row2_col1, #T_6c2c5_row2_col3, #T_6c2c5_row2_col4 {\n",
       "  background-color: #fff5f0;\n",
       "  color: #000000;\n",
       "  font-family: Segoe UI;\n",
       "}\n",
       "#T_6c2c5_row0_col3 {\n",
       "  background-color: #fcbca2;\n",
       "  color: #000000;\n",
       "  font-family: Segoe UI;\n",
       "}\n",
       "#T_6c2c5_row0_col4, #T_6c2c5_row1_col3 {\n",
       "  background-color: #67000d;\n",
       "  color: #f1f1f1;\n",
       "  font-family: Segoe UI;\n",
       "}\n",
       "#T_6c2c5_row1_col4 {\n",
       "  background-color: #fff3ed;\n",
       "  color: #000000;\n",
       "  font-family: Segoe UI;\n",
       "}\n",
       "</style>\n",
       "<table id=\"T_6c2c5\">\n",
       "  <thead>\n",
       "    <tr>\n",
       "      <th class=\"blank level0\" >&nbsp;</th>\n",
       "      <th id=\"T_6c2c5_level0_col0\" class=\"col_heading level0 col0\" >Data Type</th>\n",
       "      <th id=\"T_6c2c5_level0_col1\" class=\"col_heading level0 col1\" >Missing Values%</th>\n",
       "      <th id=\"T_6c2c5_level0_col2\" class=\"col_heading level0 col2\" >Unique Values%</th>\n",
       "      <th id=\"T_6c2c5_level0_col3\" class=\"col_heading level0 col3\" >Minimum Value</th>\n",
       "      <th id=\"T_6c2c5_level0_col4\" class=\"col_heading level0 col4\" >Maximum Value</th>\n",
       "      <th id=\"T_6c2c5_level0_col5\" class=\"col_heading level0 col5\" >DQ Issue</th>\n",
       "    </tr>\n",
       "  </thead>\n",
       "  <tbody>\n",
       "    <tr>\n",
       "      <th id=\"T_6c2c5_level0_row0\" class=\"row_heading level0 row0\" >price</th>\n",
       "      <td id=\"T_6c2c5_row0_col0\" class=\"data row0 col0\" >float64</td>\n",
       "      <td id=\"T_6c2c5_row0_col1\" class=\"data row0 col1\" >0.000000</td>\n",
       "      <td id=\"T_6c2c5_row0_col2\" class=\"data row0 col2\" >NA</td>\n",
       "      <td id=\"T_6c2c5_row0_col3\" class=\"data row0 col3\" >5.230000</td>\n",
       "      <td id=\"T_6c2c5_row0_col4\" class=\"data row0 col4\" >5250.000000</td>\n",
       "      <td id=\"T_6c2c5_row0_col5\" class=\"data row0 col5\" >has 208 outliers greater than upper bound (2665.4337499999997) or lower than lower bound(-1542.1762499999998). Cap them or remove them.</td>\n",
       "    </tr>\n",
       "    <tr>\n",
       "      <th id=\"T_6c2c5_level0_row1\" class=\"row_heading level0 row1\" >age</th>\n",
       "      <td id=\"T_6c2c5_row1_col0\" class=\"data row1 col0\" >int64</td>\n",
       "      <td id=\"T_6c2c5_row1_col1\" class=\"data row1 col1\" >0.000000</td>\n",
       "      <td id=\"T_6c2c5_row1_col2\" class=\"data row1 col2\" >2</td>\n",
       "      <td id=\"T_6c2c5_row1_col3\" class=\"data row1 col3\" >18.000000</td>\n",
       "      <td id=\"T_6c2c5_row1_col4\" class=\"data row1 col4\" >69.000000</td>\n",
       "      <td id=\"T_6c2c5_row1_col5\" class=\"data row1 col5\" >No issue</td>\n",
       "    </tr>\n",
       "    <tr>\n",
       "      <th id=\"T_6c2c5_level0_row2\" class=\"row_heading level0 row2\" >quantity</th>\n",
       "      <td id=\"T_6c2c5_row2_col0\" class=\"data row2 col0\" >int64</td>\n",
       "      <td id=\"T_6c2c5_row2_col1\" class=\"data row2 col1\" >0.000000</td>\n",
       "      <td id=\"T_6c2c5_row2_col2\" class=\"data row2 col2\" >0</td>\n",
       "      <td id=\"T_6c2c5_row2_col3\" class=\"data row2 col3\" >1.000000</td>\n",
       "      <td id=\"T_6c2c5_row2_col4\" class=\"data row2 col4\" >5.000000</td>\n",
       "      <td id=\"T_6c2c5_row2_col5\" class=\"data row2 col5\" >No issue</td>\n",
       "    </tr>\n",
       "  </tbody>\n",
       "</table>\n"
      ],
      "text/plain": [
       "<pandas.io.formats.style.Styler at 0x21b8277d690>"
      ]
     },
     "metadata": {},
     "output_type": "display_data"
    },
    {
     "name": "stdout",
     "output_type": "stream",
     "text": [
      "Alert: Detecting 97377 duplicate rows...\n",
      "Alert: Dropping 97377 duplicate rows can sometimes cause column data types to change to object. Double-check!\n"
     ]
    }
   ],
   "source": [
    "dq_report(dfnum, verbose=1) \n",
    "fdq = Fix_DQ()\n",
    "data_transfomerd = fdq.fit_transform(dfnum)\n",
    "#Como previsto, os valores das compras há muitos outliers, pelo fato de ser valores altos \n",
    "#nesse caso já sabemos que não podemos usar a média, a melhor métrica deve ser a mediana para este caso"
   ]
  },
  {
   "cell_type": "markdown",
   "id": "8afe223f-fba4-45f0-b180-a9c17c3e0bf8",
   "metadata": {},
   "source": [
    "Por fim, os dados já estão tratados para o nosso fim."
   ]
  },
  {
   "cell_type": "code",
   "execution_count": null,
   "id": "1d028027-707f-479c-9bd6-e391832c8f26",
   "metadata": {},
   "outputs": [],
   "source": []
  }
 ],
 "metadata": {
  "kernelspec": {
   "display_name": "Python 3 (ipykernel)",
   "language": "python",
   "name": "python3"
  },
  "language_info": {
   "codemirror_mode": {
    "name": "ipython",
    "version": 3
   },
   "file_extension": ".py",
   "mimetype": "text/x-python",
   "name": "python",
   "nbconvert_exporter": "python",
   "pygments_lexer": "ipython3",
   "version": "3.11.3"
  }
 },
 "nbformat": 4,
 "nbformat_minor": 5
}
